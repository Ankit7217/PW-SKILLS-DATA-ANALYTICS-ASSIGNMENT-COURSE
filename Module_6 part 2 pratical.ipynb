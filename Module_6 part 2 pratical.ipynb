{
  "nbformat": 4,
  "nbformat_minor": 0,
  "metadata": {
    "colab": {
      "provenance": []
    },
    "kernelspec": {
      "name": "python3",
      "display_name": "Python 3"
    },
    "language_info": {
      "name": "python"
    }
  },
  "cells": [
    {
      "cell_type": "markdown",
      "source": [
        "**Question 1.Write a Python function that takes a list of numbers as input and returns the sum of all even numbers in the list?**\n",
        "\n"
      ],
      "metadata": {
        "id": "X5Wu_d4dUPto"
      }
    },
    {
      "cell_type": "markdown",
      "source": [
        "Here’s a Python function that takes a list of numbers as input and returns the sum of all even numbers in the list:\n",
        "\n"
      ],
      "metadata": {
        "id": "wu4xk4XvUd_W"
      }
    },
    {
      "cell_type": "code",
      "source": [
        "def sum_of_even_numbers(numbers):\n",
        "    # Initialize a variable to store the sum of even numbers\n",
        "    total = 0\n",
        "\n",
        "    # Iterate through the list of numbers\n",
        "    for num in numbers:\n",
        "        # Check if the number is even\n",
        "        if num % 2 == 0:\n",
        "            total += num  # Add the even number to the total\n",
        "\n",
        "    return total  # Return the sum of even numbers\n"
      ],
      "metadata": {
        "id": "rVuOIbgaUfzc"
      },
      "execution_count": null,
      "outputs": []
    },
    {
      "cell_type": "markdown",
      "source": [
        "**Example Usage:**\n",
        "\n"
      ],
      "metadata": {
        "id": "QMnL4GrxUhtb"
      }
    },
    {
      "cell_type": "code",
      "source": [
        "numbers = [1, 2, 3, 4, 5, 6]\n",
        "result = sum_of_even_numbers(numbers)\n",
        "print(result)  # Output: 12\n"
      ],
      "metadata": {
        "id": "L7GtLCiWUnAE"
      },
      "execution_count": null,
      "outputs": []
    },
    {
      "cell_type": "markdown",
      "source": [
        "**Explanation**"
      ],
      "metadata": {
        "id": "hQLPcByBUpJK"
      }
    },
    {
      "cell_type": "markdown",
      "source": [
        "The function sum_of_even_numbers initializes a variable total to store the sum of even numbers.\n",
        "It then loops through the list of numbers, checking if each number is even (i.e., divisible by 2).\n",
        "If the number is even, it adds that number to total.\n",
        "Finally, the function returns the sum of all even numbers.\n",
        "\n",
        "\n",
        "\n",
        "\n",
        "\n"
      ],
      "metadata": {
        "id": "FG0dlK3-UtNN"
      }
    },
    {
      "cell_type": "markdown",
      "source": [
        "**Question 2.Create a Python function that accepts a string and returns the reverse of that string?**\n",
        "\n"
      ],
      "metadata": {
        "id": "Zq-4_nekUuN-"
      }
    },
    {
      "cell_type": "markdown",
      "source": [
        "Python function that accepts a string as input and returns the reverse of that string:"
      ],
      "metadata": {
        "id": "dNVRp2O3U_YV"
      }
    },
    {
      "cell_type": "code",
      "source": [
        "def reverse_string(s):\n",
        "    # Use string slicing to reverse the string\n",
        "    return s[::-1]\n"
      ],
      "metadata": {
        "id": "0yMk_ZMBVDsL"
      },
      "execution_count": null,
      "outputs": []
    },
    {
      "cell_type": "markdown",
      "source": [
        "**Example Usage:**\n"
      ],
      "metadata": {
        "id": "r8RBc1GWVGrQ"
      }
    },
    {
      "cell_type": "code",
      "source": [
        "input_string = \"hello\"\n",
        "reversed_string = reverse_string(input_string)\n",
        "print(reversed_string)  # Output: \"olleh\"\n"
      ],
      "metadata": {
        "id": "7aVlACdFVJ_m"
      },
      "execution_count": null,
      "outputs": []
    },
    {
      "cell_type": "markdown",
      "source": [
        "**Question 3.. Implement a Python function that takes a list of integers and returns a new list containing the squares of each number?**"
      ],
      "metadata": {
        "id": "JTLNJy4SVMWo"
      }
    },
    {
      "cell_type": "markdown",
      "source": [
        " Python function that takes a list of integers and returns a new list containing the squares of each number:"
      ],
      "metadata": {
        "id": "-8EcdPbcVp27"
      }
    },
    {
      "cell_type": "code",
      "source": [
        "def square_numbers(numbers):\n",
        "    # Use list comprehension to create a new list with squares of the numbers\n",
        "    return [num ** 2 for num in numbers]\n"
      ],
      "metadata": {
        "id": "IZ5cPN1WVrox"
      },
      "execution_count": null,
      "outputs": []
    },
    {
      "cell_type": "markdown",
      "source": [
        "Example Usage:\n"
      ],
      "metadata": {
        "id": "no2aUZDXVtdA"
      }
    },
    {
      "cell_type": "code",
      "source": [
        "numbers = [1, 2, 3, 4, 5]\n",
        "squared_list = square_numbers(numbers)\n",
        "print(squared_list)  # Output: [1, 4, 9, 16, 25]\n"
      ],
      "metadata": {
        "id": "4-C9-7stVu29"
      },
      "execution_count": null,
      "outputs": []
    },
    {
      "cell_type": "markdown",
      "source": [
        "**Explanation**"
      ],
      "metadata": {
        "id": "bSukLwQJVw28"
      }
    },
    {
      "cell_type": "markdown",
      "source": [
        "The function square_numbers uses list comprehension to create a new list.\n",
        "For each num in the input list numbers, it calculates num ** 2 (the square of num) and stores the result in the new list.\n",
        "The function returns the list of squared numbers."
      ],
      "metadata": {
        "id": "vAmFTd5UVzv_"
      }
    },
    {
      "cell_type": "markdown",
      "source": [
        "**Question 4.Write a Python function that checks if a given number is prime or not from 1 to 200?**\n",
        "\n"
      ],
      "metadata": {
        "id": "Kx6Pup3jV1ab"
      }
    },
    {
      "cell_type": "markdown",
      "source": [
        " Python function that checks if a given number is prime or not within the range of 1 to 200"
      ],
      "metadata": {
        "id": "mr-6HtwvWiSP"
      }
    },
    {
      "cell_type": "code",
      "source": [
        "def is_prime(n):\n",
        "    # Return False for numbers less than 2 as they are not prime\n",
        "    if n < 2:\n",
        "        return False\n",
        "\n",
        "    # Check if the number has any divisors other than 1 and itself\n",
        "    for i in range(2, int(n ** 0.5) + 1):\n",
        "        if n % i == 0:\n",
        "            return False  # If a divisor is found, the number is not prime\n",
        "\n",
        "    return True  # If no divisors are found, the number is prime\n"
      ],
      "metadata": {
        "id": "frsvDVVdWkWq"
      },
      "execution_count": null,
      "outputs": []
    },
    {
      "cell_type": "markdown",
      "source": [
        "**Example Usage:**\n"
      ],
      "metadata": {
        "id": "xxlZ61s5Wmgq"
      }
    },
    {
      "cell_type": "code",
      "source": [
        "for num in range(1, 201):\n",
        "    if is_prime(num):\n",
        "        print(f\"{num} is a prime number\")\n"
      ],
      "metadata": {
        "id": "j3jGOVN0Wqr_"
      },
      "execution_count": null,
      "outputs": []
    },
    {
      "cell_type": "markdown",
      "source": [
        "**Question 5.Create an iterator class in Python that generates the Fibonacci sequence up to a specified number of terms?**\n",
        "\n"
      ],
      "metadata": {
        "id": "j-r5XHRqWs7J"
      }
    },
    {
      "cell_type": "code",
      "source": [
        "class FibonacciIterator:\n",
        "    def __init__(self, num_terms):\n",
        "        self.num_terms = num_terms  # Total number of terms to generate\n",
        "        self.current_term = 0       # Current term index\n",
        "        self.a, self.b = 0, 1       # First two numbers in the Fibonacci sequence\n",
        "\n",
        "    def __iter__(self):\n",
        "        return self\n",
        "\n",
        "    def __next__(self):\n",
        "        if self.current_term >= self.num_terms:\n",
        "            raise StopIteration  # Stop iteration when the limit is reached\n",
        "\n",
        "        # Return the next Fibonacci number\n",
        "        if self.current_term == 0:\n",
        "            self.current_term += 1\n",
        "            return self.a\n",
        "        elif self.current_term == 1:\n",
        "            self.current_term += 1\n",
        "            return self.b\n",
        "        else:\n",
        "            # Calculate the next Fibonacci number\n",
        "            next_fib = self.a + self.b\n",
        "            self.a, self.b = self.b, next_fib\n",
        "            self.current_term += 1\n",
        "            return next_fib\n"
      ],
      "metadata": {
        "id": "Q6nCkalRXD4o"
      },
      "execution_count": null,
      "outputs": []
    },
    {
      "cell_type": "markdown",
      "source": [
        "**Example Usage:**\n"
      ],
      "metadata": {
        "id": "7-E_Zd3jXGpX"
      }
    },
    {
      "cell_type": "code",
      "source": [
        "# Create an instance of FibonacciIterator with 10 terms\n",
        "fib = FibonacciIterator(10)\n",
        "\n",
        "# Iterate through the Fibonacci sequence\n",
        "for number in fib:\n",
        "    print(number)\n"
      ],
      "metadata": {
        "id": "Jh4rHtndXJWC"
      },
      "execution_count": null,
      "outputs": []
    },
    {
      "cell_type": "markdown",
      "source": [
        "**Explanation**\n",
        "The FibonacciIterator class takes num_terms as an argument, which specifies how many terms of the Fibonacci sequence to generate.\n",
        "The __iter__() method allows the object to be used as an iterator.\n",
        "The __next__() method generates the next Fibonacci number in the sequence. It raises a StopIteration exception when the specified number of terms is reached.\n",
        "The first two Fibonacci numbers (0 and 1) are handled separately, and subsequent numbers are generated by summing the two preceding values (self.a + self.b)"
      ],
      "metadata": {
        "id": "P-Rd4gpjXOxO"
      }
    },
    {
      "cell_type": "markdown",
      "source": [
        "**Example Output for 10 terms:**\n"
      ],
      "metadata": {
        "id": "BRWyKmoCXU18"
      }
    },
    {
      "cell_type": "code",
      "source": [
        "0\n",
        "1\n",
        "1\n",
        "2\n",
        "3\n",
        "5\n",
        "8\n",
        "13\n",
        "21\n",
        "34\n"
      ],
      "metadata": {
        "id": "3cRYJ5doXZYu"
      },
      "execution_count": null,
      "outputs": []
    },
    {
      "cell_type": "markdown",
      "source": [
        "**Question. 6 Write a generator function in Python that yields the powers of 2 up to a given exponent?**"
      ],
      "metadata": {
        "id": "xtmZqzrdXbYn"
      }
    },
    {
      "cell_type": "code",
      "source": [
        "def powers_of_two(max_exponent):\n",
        "    # Iterate from 0 to max_exponent\n",
        "    for exponent in range(max_exponent + 1):\n",
        "        yield 2 ** exponent  # Yield 2 raised to the power of exponent\n"
      ],
      "metadata": {
        "id": "bCCEOnYrYuTz"
      },
      "execution_count": null,
      "outputs": []
    },
    {
      "cell_type": "markdown",
      "source": [
        "Example Usage:\n"
      ],
      "metadata": {
        "id": "WISxHxCTYvzb"
      }
    },
    {
      "cell_type": "code",
      "source": [
        "# Create a generator for powers of 2 up to exponent 5\n",
        "for power in powers_of_two(5):\n",
        "    print(power)\n"
      ],
      "metadata": {
        "id": "FLBiJ7bRYydZ"
      },
      "execution_count": null,
      "outputs": []
    },
    {
      "cell_type": "markdown",
      "source": [
        "Example Output for max_exponent = 5:\n"
      ],
      "metadata": {
        "id": "iPVjY6vxY1SY"
      }
    },
    {
      "cell_type": "code",
      "source": [
        "1   # 2^0\n",
        "2   # 2^1\n",
        "4   # 2^2\n",
        "8   # 2^3\n",
        "16  # 2^4\n",
        "32  # 2^5\n"
      ],
      "metadata": {
        "id": "K1UiU-1JY2sV"
      },
      "execution_count": null,
      "outputs": []
    },
    {
      "cell_type": "markdown",
      "source": [
        "**Question 7.Implement a generator function that reads a file line by line and yields each line as a string?**"
      ],
      "metadata": {
        "id": "QkycXS0vY4AW"
      }
    },
    {
      "cell_type": "markdown",
      "source": [
        "Here’s a Python generator function that reads a file line by line and yields each line as a string:\n",
        "\n"
      ],
      "metadata": {
        "id": "5kWORW_rZF2z"
      }
    },
    {
      "cell_type": "code",
      "source": [
        "def read_file_line_by_line(file_path):\n",
        "    with open(file_path, 'r') as file:\n",
        "        for line in file:\n",
        "            yield line.strip()  # Yield each line without leading/trailing whitespace\n"
      ],
      "metadata": {
        "id": "3HOy9xLvZIBm"
      },
      "execution_count": null,
      "outputs": []
    },
    {
      "cell_type": "markdown",
      "source": [
        "Example Usage:\n"
      ],
      "metadata": {
        "id": "wRG8AQOXZJvy"
      }
    },
    {
      "cell_type": "code",
      "source": [
        "# Assuming 'example.txt' is the file to read\n",
        "file_path = 'example.txt'\n",
        "\n",
        "# Create a generator and iterate through each line in the file\n",
        "for line in read_file_line_by_line(file_path):\n",
        "    print(line)\n"
      ],
      "metadata": {
        "id": "1Ns2Q7CHZNvm"
      },
      "execution_count": null,
      "outputs": []
    },
    {
      "cell_type": "markdown",
      "source": [
        "**Example Output for a file example.txt:**\n",
        "If example.txt contains:\n",
        "\n"
      ],
      "metadata": {
        "id": "e4zt7jyiZSIf"
      }
    },
    {
      "cell_type": "markdown",
      "source": [
        "Hello, World!\n",
        "This is a file.\n",
        "Line by line reading.\n"
      ],
      "metadata": {
        "id": "2Y_EclQrZWrZ"
      }
    },
    {
      "cell_type": "markdown",
      "source": [
        "The output would be:\n",
        "\n"
      ],
      "metadata": {
        "id": "8qcZAlDIZYkl"
      }
    },
    {
      "cell_type": "code",
      "source": [
        "Hello, World!\n",
        "This is a file.\n",
        "Line by line reading.\n"
      ],
      "metadata": {
        "id": "b--2ZV43ZaUW"
      },
      "execution_count": null,
      "outputs": []
    },
    {
      "cell_type": "markdown",
      "source": [
        "**Question 8.Use a lambda function in Python to sort a list of tuples based on the second element of each tuple?**"
      ],
      "metadata": {
        "id": "BDjLgvrDZins"
      }
    },
    {
      "cell_type": "markdown",
      "source": [
        "You can use a lambda function to sort a list of tuples based on the second element of each tuple like this:\n",
        "\n"
      ],
      "metadata": {
        "id": "H59a_acoZv-L"
      }
    },
    {
      "cell_type": "code",
      "source": [
        "# List of tuples\n",
        "tuple_list = [(1, 3), (4, 1), (2, 5), (3, 2)]\n",
        "\n",
        "# Sorting the list of tuples based on the second element of each tuple\n",
        "sorted_list = sorted(tuple_list, key=lambda x: x[1])\n",
        "\n",
        "print(sorted_list)\n"
      ],
      "metadata": {
        "id": "HsGT4OlFZ2qd"
      },
      "execution_count": null,
      "outputs": []
    },
    {
      "cell_type": "markdown",
      "source": [
        "Explanation:\n"
      ],
      "metadata": {
        "id": "y_Jcv3v_Z44z"
      }
    },
    {
      "cell_type": "markdown",
      "source": [
        "The sorted() function is used to sort the list of tuples.\n",
        "The key argument accepts a function that determines the sorting criteria.\n",
        "A lambda function lambda x: x[1] is used, where x[1] refers to the second element of each tuple. This tells sorted() to sort the tuples based on this second element."
      ],
      "metadata": {
        "id": "2zpwFGv4Z8bb"
      }
    },
    {
      "cell_type": "markdown",
      "source": [
        "**Example Output:**\n"
      ],
      "metadata": {
        "id": "bmzlvFk5Z-l3"
      }
    },
    {
      "cell_type": "code",
      "source": [
        "[(4, 1), (3, 2), (1, 3), (2, 5)]\n"
      ],
      "metadata": {
        "id": "riAcdW6FaBYZ"
      },
      "execution_count": null,
      "outputs": []
    },
    {
      "cell_type": "markdown",
      "source": [
        "In this case, the list is sorted by the second element of each tuple: 1, 2, 3, and 5.\n",
        "\n",
        "\n",
        "\n",
        "\n",
        "\n",
        "\n"
      ],
      "metadata": {
        "id": "-Dp48P-NaD7t"
      }
    },
    {
      "cell_type": "markdown",
      "source": [
        "**Question 9**.**Write a Python program that uses map**()* **to** **convert** **a** **list of** **temperatures** **from Celsius** **to **Fahrenheit**"
      ],
      "metadata": {
        "id": "teCRksnbaEok"
      }
    },
    {
      "cell_type": "markdown",
      "source": [
        "Here’s a Python program that uses the map() function to convert a list of temperatures from Celsius to Fahrenheit:\n",
        "\n"
      ],
      "metadata": {
        "id": "PzmpqU2dayK2"
      }
    },
    {
      "cell_type": "code",
      "source": [
        "# Function to convert Celsius to Fahrenheit\n",
        "def celsius_to_fahrenheit(celsius):\n",
        "    return (celsius * 9/5) + 32\n",
        "\n",
        "# List of temperatures in Celsius\n",
        "celsius_temperatures = [0, 20, 37, 100]\n",
        "\n",
        "# Using map() to convert each Celsius temperature to Fahrenheit\n",
        "fahrenheit_temperatures = list(map(celsius_to_fahrenheit, celsius_temperatures))\n",
        "\n",
        "# Print the result\n",
        "print(fahrenheit_temperatures)\n"
      ],
      "metadata": {
        "id": "IXhtV37Ca1lP"
      },
      "execution_count": null,
      "outputs": []
    },
    {
      "cell_type": "markdown",
      "source": [
        "**Example Output:**\n"
      ],
      "metadata": {
        "id": "5i03LMS0a4Xu"
      }
    },
    {
      "cell_type": "code",
      "source": [
        "[32.0, 68.0, 98.6, 212.0]\n"
      ],
      "metadata": {
        "id": "iNAHBPIHa6qx"
      },
      "execution_count": null,
      "outputs": []
    },
    {
      "cell_type": "markdown",
      "source": [
        "**Explanation:**\n",
        "The celsius_to_fahrenheit function converts a temperature from Celsius to Fahrenheit using the formula (Celsius * 9/5) + 32.\n",
        "The map() function applies the celsius_to_fahrenheit function to each element in the celsius_temperatures list.\n",
        "The result is converted back to a list and stored in fahrenheit_temperatures.\n",
        "The program then prints the list of temperatures in Fahrenheit."
      ],
      "metadata": {
        "id": "Q21W-kWba9HJ"
      }
    },
    {
      "cell_type": "markdown",
      "source": [
        "**Question 10.Create a Python program that uses 'filter) to remove all the vowels from a given string?**"
      ],
      "metadata": {
        "id": "y-7gE3MebBIc"
      }
    },
    {
      "cell_type": "markdown",
      "source": [
        "Here’s a Python program that uses the filter() function to remove all the vowels from a given string:\n",
        "\n"
      ],
      "metadata": {
        "id": "K1jxrybWbRST"
      }
    },
    {
      "cell_type": "code",
      "source": [
        "# Define a function to check if a character is not a vowel\n",
        "def is_not_vowel(char):\n",
        "    vowels = 'aeiouAEIOU'\n",
        "    return char not in vowels\n",
        "\n",
        "# Given string\n",
        "input_string = \"Hello, World!\"\n",
        "\n",
        "# Use filter() to remove vowels from the string\n",
        "filtered_string = ''.join(filter(is_not_vowel, input_string))\n",
        "\n",
        "# Print the result\n",
        "print(filtered_string)\n"
      ],
      "metadata": {
        "id": "8LIqUsH5bUo-"
      },
      "execution_count": null,
      "outputs": []
    },
    {
      "cell_type": "markdown",
      "source": [
        "**Example Output:**\n"
      ],
      "metadata": {
        "id": "r-uPHvytbXeW"
      }
    },
    {
      "cell_type": "code",
      "source": [
        "Hll, Wrld!\n"
      ],
      "metadata": {
        "id": "b0I12a_jbaMr"
      },
      "execution_count": null,
      "outputs": []
    },
    {
      "cell_type": "markdown",
      "source": [
        "**Explanation:**\n",
        "The is_not_vowel function checks if a character is not in the set of vowels ('aeiouAEIOU').\n",
        "The filter() function applies is_not_vowel to each character in input_string, keeping only the characters that are not vowels.\n",
        "The result is joined back into a string using ''.join() and stored in filtered_string.\n",
        "The program then prints the string with all vowels removed"
      ],
      "metadata": {
        "id": "tnlo17_jbcek"
      }
    },
    {
      "cell_type": "markdown",
      "source": [
        "**Question 11. 11) Imagine an accounting routine used in a book shop. It works on a list with sublists, which look like this:**\n",
        "Order Number\n",
        "34587\n",
        "98762\n",
        "77226\n",
        "88112\n",
        "Book Title and Author\n",
        "Learning Python, Mark Lutz\n",
        "Programming Python, Mark Lutz\n",
        "Head First Python, Paul Barry\n",
        "Einführung in Python3, Bernd Klein\n",
        "Quantity\n",
        "4\n",
        "5\n",
        "3\n",
        "3\n",
        "Price per Item\n",
        "40.95\n",
        "56.80\n",
        "32.95\n",
        "24.99\n",
        "Write a Python program, which returns a list with 2-tuples. Each tuple consists of the order number and the\n",
        "product of the price per item and the quantity. The product should be increased by 10,- € if the value of the\n",
        "order is smaller than 100,00 €.\n",
        "Write a Python program using lambda and map.?"
      ],
      "metadata": {
        "id": "V6zqHOpHbgd5"
      }
    },
    {
      "cell_type": "markdown",
      "source": [
        " use a combination of lambda, map, and list comprehension to achieve the desired result. Here’s a Python program that processes the given data and returns a list of 2-tuples containing the order number and the calculated total cost for each order:"
      ],
      "metadata": {
        "id": "qXj96SvpcDaY"
      }
    },
    {
      "cell_type": "code",
      "source": [
        "# Input data\n",
        "orders = [\n",
        "    [34587, \"Learning Python, Mark Lutz\", 4, 40.95],\n",
        "    [98762, \"Programming Python, Mark Lutz\", 5, 56.80],\n",
        "    [77226, \"Head First Python, Paul Barry\", 3, 32.95],\n",
        "    [88112, \"Einführung in Python3, Bernd Klein\", 3, 24.99]\n",
        "]\n",
        "\n",
        "# Function to calculate total cost\n",
        "def calculate_total(order):\n",
        "    order_number = order[0]\n",
        "    quantity = order[2]\n",
        "    price_per_item = order[3]\n",
        "\n",
        "    total_cost = quantity * price_per_item  # Calculate the total cost\n",
        "\n",
        "    # Increase total cost by 10 if it's less than 100\n",
        "    if total_cost < 100:\n",
        "        total_cost += 10\n",
        "\n",
        "    return (order_number, total_cost)\n",
        "\n",
        "# Use map to apply the calculate_total function to each order\n",
        "result = list(map(lambda order: calculate_total(order), orders))\n",
        "\n",
        "# Print the result\n",
        "print(result)\n"
      ],
      "metadata": {
        "id": "TmZHOJC8cPEn"
      },
      "execution_count": null,
      "outputs": []
    },
    {
      "cell_type": "markdown",
      "source": [
        "**Explanation:**\n",
        "**Input Data:** The orders are represented as a list of lists, where each inner list contains the order number, book title, quantity, and price per item.\n",
        "\n"
      ],
      "metadata": {
        "id": "OCZlXq4ncRqH"
      }
    },
    {
      "cell_type": "markdown",
      "source": [
        "**Calculate Total Function**:\n",
        "\n"
      ],
      "metadata": {
        "id": "3arWIBPccU3k"
      }
    },
    {
      "cell_type": "markdown",
      "source": [
        "The calculate_total function takes an order as input and extracts the order number, quantity, and price per item.\n",
        "It calculates the total cost by multiplying the quantity by the price per item.\n",
        "If the total cost is less than 100, it adds 10 to the total cost.\n",
        "The function returns a tuple containing the order number and the total cost"
      ],
      "metadata": {
        "id": "B4q4ZibGcctR"
      }
    },
    {
      "cell_type": "markdown",
      "source": [
        "**Using map:**\n",
        "\n"
      ],
      "metadata": {
        "id": "rLdCPlzxcfMb"
      }
    },
    {
      "cell_type": "markdown",
      "source": [
        "The map() function applies the calculate_total function to each order in the orders list.\n",
        "The result is converted to a list.\n",
        "Output: Finally, the program prints the list of 2-tuples."
      ],
      "metadata": {
        "id": "-QzEOcDPcifD"
      }
    },
    {
      "cell_type": "markdown",
      "source": [
        "**Example Output:**\n"
      ],
      "metadata": {
        "id": "3IayigWVckS7"
      }
    },
    {
      "cell_type": "code",
      "source": [
        "[(34587, 163.8), (98762, 284.0), (77226, 99.85), (88112, 84.97)]\n"
      ],
      "metadata": {
        "id": "BPyWhmoccnT9"
      },
      "execution_count": null,
      "outputs": []
    },
    {
      "cell_type": "markdown",
      "source": [
        "**In this output:**\n",
        "\n",
        "The order with number 77226 had a total cost of 99.85, which was increased by 10 to 109.85.\n",
        "The order with number 88112 had a total cost of 84.97, which was increased by 10 to 94.97.\n",
        "\n",
        "\n",
        "\n",
        "\n",
        "\n"
      ],
      "metadata": {
        "id": "omUx5jZFcpXT"
      }
    }
  ]
}