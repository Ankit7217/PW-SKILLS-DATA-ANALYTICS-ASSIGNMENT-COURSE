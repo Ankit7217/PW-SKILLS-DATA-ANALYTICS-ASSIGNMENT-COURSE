{
  "nbformat": 4,
  "nbformat_minor": 0,
  "metadata": {
    "colab": {
      "provenance": []
    },
    "kernelspec": {
      "name": "python3",
      "display_name": "Python 3"
    },
    "language_info": {
      "name": "python"
    }
  },
  "cells": [
    {
      "cell_type": "markdown",
      "source": [
        "**Question1. Discuss string slicing and provide examples?**"
      ],
      "metadata": {
        "id": "6vZGoemsu8lj"
      }
    },
    {
      "cell_type": "markdown",
      "source": [
        "String slicing in Python is a technique that allows you to extract specific parts of a string by specifying the starting, ending, and step values. It helps you work with substrings or specific sections of a string."
      ],
      "metadata": {
        "id": "MHDo8BiUvF94"
      }
    },
    {
      "cell_type": "code",
      "source": [
        "string[start:stop:step]\n"
      ],
      "metadata": {
        "id": "Mxp23G0XvMIv"
      },
      "execution_count": null,
      "outputs": []
    },
    {
      "cell_type": "markdown",
      "source": [
        "start: The index where the slicing starts (inclusive).\n",
        "stop: The index where the slicing ends (exclusive).\n",
        "step: The step size or interval (optional, defaults to 1)."
      ],
      "metadata": {
        "id": "FXGr1P20vOdC"
      }
    },
    {
      "cell_type": "markdown",
      "source": [],
      "metadata": {
        "id": "63_f4eh5t1vH"
      }
    },
    {
      "cell_type": "markdown",
      "source": [
        "**2. Basic Slicing Example**"
      ],
      "metadata": {
        "id": "QzbOkWxZsIjA"
      }
    },
    {
      "cell_type": "code",
      "source": [
        "text = \"Python Programming\"\n",
        "\n",
        "# Slicing from index 0 to 5 (characters at index 0, 1, 2, 3, 4)\n",
        "print(text[0:6])  # Output: 'Python'\n"
      ],
      "metadata": {
        "id": "JEtahGmOr7Qz"
      },
      "execution_count": null,
      "outputs": []
    },
    {
      "cell_type": "markdown",
      "source": [
        "Here, text[0:6] extracts characters from index 0 up to 5, excluding the character at index 6. So, it returns \"Python\""
      ],
      "metadata": {
        "id": "nvWDAYeRr-lO"
      }
    },
    {
      "cell_type": "markdown",
      "source": [
        "**3. Omitting Start or Stop**\n"
      ],
      "metadata": {
        "id": "L8FxbVOssBvD"
      }
    },
    {
      "cell_type": "code",
      "source": [
        "text = \"Python Programming\"\n",
        "\n",
        "# From the start to index 6\n",
        "print(text[:6])  # Output: 'Python'\n",
        "\n",
        "# From index 7 to the end\n",
        "print(text[7:])  # Output: 'Programming'\n"
      ],
      "metadata": {
        "id": "9gT1jmJ9sjQY"
      },
      "execution_count": null,
      "outputs": []
    },
    {
      "cell_type": "markdown",
      "source": [
        "If you omit the start, slicing starts from the beginning of the string.\n",
        "If you omit the stop, slicing goes until the end of the string.\n"
      ],
      "metadata": {
        "id": "uSuj297jsogM"
      }
    },
    {
      "cell_type": "markdown",
      "source": [
        "**4. Using Negative Indices**\n"
      ],
      "metadata": {
        "id": "v2Xbic0Gs05d"
      }
    },
    {
      "cell_type": "code",
      "source": [
        "text = \"Python Programming\"\n",
        "\n",
        "# Slice the last 6 characters\n",
        "print(text[-6:])  # Output: 'mming'\n"
      ],
      "metadata": {
        "id": "5GquHFUAs7pi"
      },
      "execution_count": null,
      "outputs": []
    },
    {
      "cell_type": "markdown",
      "source": [
        "Here, negative indices start counting from the end of the string. -6 refers to the sixth character from the end of the string, so text[-6:] gives \"mming\".\n",
        "\n"
      ],
      "metadata": {
        "id": "mpIcbZ7ftAgF"
      }
    },
    {
      "cell_type": "markdown",
      "source": [
        "**5. Using Step in Slicing**\n"
      ],
      "metadata": {
        "id": "1_LQ2-cttDtM"
      }
    },
    {
      "cell_type": "code",
      "source": [
        "text = \"Python Programming\"\n",
        "\n",
        "# Slice every second character from index 0 to 10\n",
        "print(text[0:10:2])  # Output: 'Pto rg'\n",
        "\n",
        "# Reverse the string\n",
        "print(text[::-1])  # Output: 'gnimmargorP nohtyP'\n"
      ],
      "metadata": {
        "id": "Kf_FocNTtG4F"
      },
      "execution_count": null,
      "outputs": []
    },
    {
      "cell_type": "markdown",
      "source": [
        "Step allows you to control the interval between the characters. For example, text[0:10:2] skips every other character.\n",
        "Negative step can be used to reverse a string, as shown in text[::-1]."
      ],
      "metadata": {
        "id": "CsD1L7FMtMLd"
      }
    },
    {
      "cell_type": "markdown",
      "source": [
        "**6. Slicing with Negative Step**\n"
      ],
      "metadata": {
        "id": "3WhKkCfGtOqi"
      }
    },
    {
      "cell_type": "code",
      "source": [
        "text = \"Python\"\n",
        "\n",
        "# Slice in reverse from index 5 to 1\n",
        "print(text[5:0:-1])  # Output: 'nohty'\n"
      ],
      "metadata": {
        "id": "q7y9-YH-tSfM"
      },
      "execution_count": null,
      "outputs": []
    },
    {
      "cell_type": "markdown",
      "source": [
        "Here, the step is -1, so slicing happens in reverse. It extracts characters starting from index 5 down to index 1 (not including 0)."
      ],
      "metadata": {
        "id": "I7pb6T3ZtUpI"
      }
    },
    {
      "cell_type": "markdown",
      "source": [
        "**Question2.Explain the key features of list in python?**"
      ],
      "metadata": {
        "id": "d2jiSCycwaI4"
      }
    },
    {
      "cell_type": "markdown",
      "source": [
        "In Python, a list is a versatile, ordered, and mutable data structure used to store collections of items. Lists can contain elements of different data types and offer powerful operations for adding, removing, and manipulating data. Here are the key features of lists in Python:"
      ],
      "metadata": {
        "id": "bI1Elm1qwqO7"
      }
    },
    {
      "cell_type": "markdown",
      "source": [
        "**1. Ordered**\n"
      ],
      "metadata": {
        "id": "8COhqXJ6wtD2"
      }
    },
    {
      "cell_type": "markdown",
      "source": [
        "Lists maintain the order of the elements. This means when you create a list, the order in which you insert the items is preserved, and you can access them by their index."
      ],
      "metadata": {
        "id": "PRmOU1gVwyP2"
      }
    },
    {
      "cell_type": "code",
      "source": [
        "my_list = [10, 20, 30]\n",
        "print(my_list[0])  # Output: 10 (first element)\n"
      ],
      "metadata": {
        "id": "lzTFPbPMw0wK"
      },
      "execution_count": null,
      "outputs": []
    },
    {
      "cell_type": "markdown",
      "source": [
        "**2. Mutable**"
      ],
      "metadata": {
        "id": "6pLisdMsw5pk"
      }
    },
    {
      "cell_type": "markdown",
      "source": [
        "Lists are mutable, which means you can change the elements after the list is created (e.g., add, modify, or remove items)"
      ],
      "metadata": {
        "id": "jRZg1CfMxAR0"
      }
    },
    {
      "cell_type": "code",
      "source": [
        "my_list = [10, 20, 30]\n",
        "my_list[1] = 50  # Changing the second element\n",
        "print(my_list)  # Output: [10, 50, 30]\n"
      ],
      "metadata": {
        "id": "S9gmiWlrxC0s"
      },
      "execution_count": null,
      "outputs": []
    },
    {
      "cell_type": "markdown",
      "source": [
        "**3. Dynamic (Variable Length)**\n"
      ],
      "metadata": {
        "id": "Y6xnb081xFDm"
      }
    },
    {
      "cell_type": "markdown",
      "source": [
        "Lists are dynamic in size. You can easily add or remove items, and the list will adjust its size accordingly"
      ],
      "metadata": {
        "id": "mDU4pAZWxJ1X"
      }
    },
    {
      "cell_type": "code",
      "source": [
        "my_list = [1, 2, 3]\n",
        "my_list.append(4)  # Adding an element\n",
        "print(my_list)  # Output: [1, 2, 3, 4]\n"
      ],
      "metadata": {
        "id": "AmNISjejxLjS"
      },
      "execution_count": null,
      "outputs": []
    },
    {
      "cell_type": "markdown",
      "source": [
        "**4. Can Contain Different Data Types**\n"
      ],
      "metadata": {
        "id": "plZKJvCHxN8G"
      }
    },
    {
      "cell_type": "markdown",
      "source": [
        "A single list can hold elements of different data types, such as integers, strings, floats, or even other lists"
      ],
      "metadata": {
        "id": "N7sXKzITxSqI"
      }
    },
    {
      "cell_type": "code",
      "source": [
        "mixed_list = [1, \"Hello\", 3.5, [10, 20]]\n",
        "print(mixed_list)  # Output: [1, \"Hello\", 3.5, [10, 20]]\n"
      ],
      "metadata": {
        "id": "_HAn75jDxUvZ"
      },
      "execution_count": null,
      "outputs": []
    },
    {
      "cell_type": "markdown",
      "source": [
        "**5. Indexing and Slicing**\n"
      ],
      "metadata": {
        "id": "Wzj7vp_axYMg"
      }
    },
    {
      "cell_type": "markdown",
      "source": [
        "Lists support indexing and slicing for accessing elements. You can access elements by their position, use negative indexing, and slice lists to extract sublists"
      ],
      "metadata": {
        "id": "8hfSh9B_xcH2"
      }
    },
    {
      "cell_type": "code",
      "source": [
        "my_list = [10, 20, 30, 40, 50]\n",
        "print(my_list[1])    # Output: 20 (indexing)\n",
        "print(my_list[-1])   # Output: 50 (negative indexing)\n",
        "print(my_list[1:4])  # Output: [20, 30, 40] (slicing)\n"
      ],
      "metadata": {
        "id": "mqX4yTJ0xd5M"
      },
      "execution_count": null,
      "outputs": []
    },
    {
      "cell_type": "markdown",
      "source": [
        "**6. Iterable**\n"
      ],
      "metadata": {
        "id": "5Claic5GxiC2"
      }
    },
    {
      "cell_type": "markdown",
      "source": [
        "Lists are iterable, which means you can loop over the elements using a for loop or other iteration techniques."
      ],
      "metadata": {
        "id": "e27-HkLXxmEu"
      }
    },
    {
      "cell_type": "code",
      "source": [
        "for item in [1, 2, 3]:\n",
        "    print(item)\n",
        "# Output:\n",
        "# 1\n",
        "# 2\n",
        "# 3\n"
      ],
      "metadata": {
        "id": "ImADuYwoxoEa"
      },
      "execution_count": null,
      "outputs": []
    },
    {
      "cell_type": "markdown",
      "source": [
        "**7. Common List Methods**\n"
      ],
      "metadata": {
        "id": "1unrpSkRxqmO"
      }
    },
    {
      "cell_type": "markdown",
      "source": [
        "Python provides several built-in methods to manipulate lists, such as:\n",
        "append(item): Adds an item to the end of the list.\n",
        "insert(index, item): Inserts an item at a specified index.\n",
        "remove(item): Removes the first occurrence of the specified item.\n",
        "pop(index): Removes and returns the item at the specified index.\n",
        "sort(): Sorts the list in ascending order.\n",
        "reverse(): Reverses the elements of the list"
      ],
      "metadata": {
        "id": "yVI4L6duxwv5"
      }
    },
    {
      "cell_type": "code",
      "source": [
        "my_list = [3, 1, 4, 1, 5]\n",
        "my_list.append(9)\n",
        "print(my_list)  # Output: [3, 1, 4, 1, 5, 9]\n",
        "\n",
        "my_list.sort()\n",
        "print(my_list)  # Output: [1, 1, 3, 4, 5, 9]\n"
      ],
      "metadata": {
        "id": "ue6Oo2Ewx6Qo"
      },
      "execution_count": null,
      "outputs": []
    },
    {
      "cell_type": "markdown",
      "source": [
        "**8. Nested Lists**\n"
      ],
      "metadata": {
        "id": "pHpQq6ysx8aB"
      }
    },
    {
      "cell_type": "markdown",
      "source": [
        "Lists can be nested, meaning a list can contain other lists as its elements."
      ],
      "metadata": {
        "id": "pinV2bMxyCe9"
      }
    },
    {
      "cell_type": "code",
      "source": [
        "nested_list = [[1, 2], [3, 4], [5, 6]]\n",
        "print(nested_list[1])      # Output: [3, 4] (accessing a sublist)\n",
        "print(nested_list[1][0])   # Output: 3 (accessing an element inside a sublist)\n"
      ],
      "metadata": {
        "id": "mvmCaaaiyEox"
      },
      "execution_count": null,
      "outputs": []
    },
    {
      "cell_type": "markdown",
      "source": [
        "**9. List Comprehension**\n"
      ],
      "metadata": {
        "id": "J4LH-ZFHyIBx"
      }
    },
    {
      "cell_type": "markdown",
      "source": [
        "Python supports list comprehensions, a concise way to create lists based on existing lists or other iterables. It is often used to apply some operation or filter elements.\n"
      ],
      "metadata": {
        "id": "C6VquW2JyNfS"
      }
    },
    {
      "cell_type": "code",
      "source": [
        "squares = [x**2 for x in range(5)]\n",
        "print(squares)  # Output: [0, 1, 4, 9, 16]\n"
      ],
      "metadata": {
        "id": "BVyXFJWiyPXZ"
      },
      "execution_count": null,
      "outputs": []
    },
    {
      "cell_type": "markdown",
      "source": [
        "**10. Supports Functions like len()**\n"
      ],
      "metadata": {
        "id": "R0bq2MZUyRoU"
      }
    },
    {
      "cell_type": "markdown",
      "source": [
        "Lists work with built-in functions like len(), which returns the number of elements in the list.\n"
      ],
      "metadata": {
        "id": "srTQ0rdpyVQ4"
      }
    },
    {
      "cell_type": "code",
      "source": [
        "my_list = [1, 2, 3, 4]\n",
        "print(len(my_list))  # Output: 4\n"
      ],
      "metadata": {
        "id": "nwT_bLpNyY2y"
      },
      "execution_count": null,
      "outputs": []
    },
    {
      "cell_type": "markdown",
      "source": [
        "**Conclusion:**\n"
      ],
      "metadata": {
        "id": "JEnwoJNuyc6V"
      }
    },
    {
      "cell_type": "markdown",
      "source": [
        "Python lists are highly flexible, allowing you to store, access, and manipulate collections of data with ease. Their mutability, dynamic nature, and support for a variety of operations make them a fundamental tool in Python programming.\n",
        "\n",
        "\n",
        "\n",
        "\n",
        "\n",
        "\n"
      ],
      "metadata": {
        "id": "dd1IsEdXygek"
      }
    },
    {
      "cell_type": "markdown",
      "source": [
        "**Question 3. Describe how to access, modify and delete elements in a list with examples?**\n",
        "\n"
      ],
      "metadata": {
        "id": "YNLomaBmy5G-"
      }
    },
    {
      "cell_type": "markdown",
      "source": [
        "In Python, lists allow you to access, modify, and delete elements easily due to their mutable nature. Below is a breakdown of how to perform these actions, along with examples.\n",
        "\n"
      ],
      "metadata": {
        "id": "BuJIGwkdzmh9"
      }
    },
    {
      "cell_type": "markdown",
      "source": [
        "**1. Accessing Elements in a List**"
      ],
      "metadata": {
        "id": "e-rx_L4qzpB1"
      }
    },
    {
      "cell_type": "markdown",
      "source": [
        "You can access elements in a list using indexing and slicing. Python lists are zero-indexed, meaning the first element is at index 0.\n",
        "\n"
      ],
      "metadata": {
        "id": "iTsNy-CRzy4s"
      }
    },
    {
      "cell_type": "markdown",
      "source": [
        "**Access by Index**\n"
      ],
      "metadata": {
        "id": "OmOGarljz3yH"
      }
    },
    {
      "cell_type": "markdown",
      "source": [
        "Use square brackets [] to access an element by its index.\n",
        "Positive index: Starts from 0 (beginning).\n",
        "Negative index: Starts from -1 (end)."
      ],
      "metadata": {
        "id": "vLOf9L9cz7Oa"
      }
    },
    {
      "cell_type": "code",
      "source": [
        "my_list = ['apple', 'banana', 'cherry', 'date']\n",
        "\n",
        "# Access by positive index\n",
        "print(my_list[1])  # Output: 'banana'\n",
        "\n",
        "# Access by negative index\n",
        "print(my_list[-1])  # Output: 'date'\n"
      ],
      "metadata": {
        "id": "iwydLIacz9U1"
      },
      "execution_count": null,
      "outputs": []
    },
    {
      "cell_type": "markdown",
      "source": [
        "**Access by Slicing**\n"
      ],
      "metadata": {
        "id": "SkWNaYoNz__U"
      }
    },
    {
      "cell_type": "markdown",
      "source": [
        "You can access a range of elements by slicing: list[start:stop].\n",
        "The start index is inclusive, and stop index is exclusive.\n"
      ],
      "metadata": {
        "id": "ROfMNppm0Duz"
      }
    },
    {
      "cell_type": "code",
      "source": [
        "# Access a slice from index 1 to 2\n",
        "print(my_list[1:3])  # Output: ['banana', 'cherry']\n"
      ],
      "metadata": {
        "id": "re6Qx6Gb0F9U"
      },
      "execution_count": null,
      "outputs": []
    },
    {
      "cell_type": "markdown",
      "source": [
        "**2. Modifying Elements in a List**\n"
      ],
      "metadata": {
        "id": "lD32FH7q0IFv"
      }
    },
    {
      "cell_type": "markdown",
      "source": [
        "Since lists are mutable, you can modify an element by directly assigning a new value to a specific index"
      ],
      "metadata": {
        "id": "P9Bx-hp60L6R"
      }
    },
    {
      "cell_type": "markdown",
      "source": [
        "**Modify a Single Element**Assign a new value to a specific index.\n",
        "\n"
      ],
      "metadata": {
        "id": "OXVH62Jq0TBS"
      }
    },
    {
      "cell_type": "code",
      "source": [
        "my_list = ['apple', 'banana', 'cherry', 'date']\n",
        "\n",
        "# Modify the element at index 1\n",
        "my_list[1] = 'blueberry'\n",
        "print(my_list)  # Output: ['apple', 'blueberry', 'cherry', 'date']\n"
      ],
      "metadata": {
        "id": "vVWU7hJQ0ZtI"
      },
      "execution_count": null,
      "outputs": []
    },
    {
      "cell_type": "markdown",
      "source": [
        "**Modify Multiple Elements**\n"
      ],
      "metadata": {
        "id": "aPlKU99O0dWL"
      }
    },
    {
      "cell_type": "markdown",
      "source": [
        "You can modify a slice of the list (a range of elements).\n"
      ],
      "metadata": {
        "id": "9QJkze6I0glB"
      }
    },
    {
      "cell_type": "code",
      "source": [
        "my_list = ['apple', 'banana', 'cherry', 'date']\n",
        "\n",
        "# Modify multiple elements from index 1 to 2\n",
        "my_list[1:3] = ['blueberry', 'grape']\n",
        "print(my_list)  # Output: ['apple', 'blueberry', 'grape', 'date']\n"
      ],
      "metadata": {
        "id": "H372U_Jc0is1"
      },
      "execution_count": null,
      "outputs": []
    },
    {
      "cell_type": "markdown",
      "source": [
        "**3. Deleting Elements in a List**\n"
      ],
      "metadata": {
        "id": "RPcGBuju0k9n"
      }
    },
    {
      "cell_type": "markdown",
      "source": [
        "You can delete elements from a list using various methods like del, pop(), or remove().\n",
        "\n"
      ],
      "metadata": {
        "id": "J9-Qff4a0o8f"
      }
    },
    {
      "cell_type": "markdown",
      "source": [
        "Using del Statement"
      ],
      "metadata": {
        "id": "KUdy8d5U0rSU"
      }
    },
    {
      "cell_type": "markdown",
      "source": [
        "Deletes an element by its index or a range of elements (slice).\n"
      ],
      "metadata": {
        "id": "11PirYR20s7B"
      }
    },
    {
      "cell_type": "code",
      "source": [
        "my_list = ['apple', 'banana', 'cherry', 'date']\n",
        "\n",
        "# Delete the element at index 1\n",
        "del my_list[1]\n",
        "print(my_list)  # Output: ['apple', 'cherry', 'date']\n",
        "\n",
        "# Delete a range of elements (slice)\n",
        "del my_list[1:3]\n",
        "print(my_list)  # Output: ['apple']\n"
      ],
      "metadata": {
        "id": "9JJ94TCH0unI"
      },
      "execution_count": null,
      "outputs": []
    },
    {
      "cell_type": "markdown",
      "source": [
        "**Using pop() Method**\n"
      ],
      "metadata": {
        "id": "pal-AtZ_0yTi"
      }
    },
    {
      "cell_type": "markdown",
      "source": [
        "Removes and returns the element at a specified index. If no index is provided, it removes and returns the last element.\n"
      ],
      "metadata": {
        "id": "YhAOkd_C01US"
      }
    },
    {
      "cell_type": "code",
      "source": [
        "my_list = ['apple', 'banana', 'cherry', 'date']\n",
        "\n",
        "# Remove and return the last element\n",
        "popped_item = my_list.pop()\n",
        "print(popped_item)  # Output: 'date'\n",
        "print(my_list)      # Output: ['apple', 'banana', 'cherry']\n",
        "\n",
        "# Remove and return the element at index 1\n",
        "popped_item = my_list.pop(1)\n",
        "print(popped_item)  # Output: 'banana'\n",
        "print(my_list)      # Output: ['apple', 'cherry']\n"
      ],
      "metadata": {
        "id": "s8R_gmky03Vm"
      },
      "execution_count": null,
      "outputs": []
    },
    {
      "cell_type": "markdown",
      "source": [
        "**Using remove() Method**"
      ],
      "metadata": {
        "id": "vOn63Hv4053q"
      }
    },
    {
      "cell_type": "markdown",
      "source": [
        "Removes the first occurrence of a specific value from the list.\n"
      ],
      "metadata": {
        "id": "WvFAhqPD0_FE"
      }
    },
    {
      "cell_type": "code",
      "source": [
        "my_list = ['apple', 'banana', 'cherry', 'banana']\n",
        "\n",
        "# Remove the first occurrence of 'banana'\n",
        "my_list.remove('banana')\n",
        "print(my_list)  # Output: ['apple', 'cherry', 'banana']\n"
      ],
      "metadata": {
        "id": "PLW0YCKe1A_8"
      },
      "execution_count": null,
      "outputs": []
    },
    {
      "cell_type": "markdown",
      "source": [
        "**4. Clearing the Entire List**\n"
      ],
      "metadata": {
        "id": "QAh7VF1F1DAu"
      }
    },
    {
      "cell_type": "markdown",
      "source": [
        "You can use the clear() method to remove all elements from a list, leaving it empty.\n"
      ],
      "metadata": {
        "id": "dLDUsoIF1HV_"
      }
    },
    {
      "cell_type": "code",
      "source": [
        "my_list = ['apple', 'banana', 'cherry']\n",
        "\n",
        "# Clear the entire list\n",
        "my_list.clear()\n",
        "print(my_list)  # Output: []\n"
      ],
      "metadata": {
        "id": "VQGTwnYq1JS3"
      },
      "execution_count": null,
      "outputs": []
    },
    {
      "cell_type": "markdown",
      "source": [
        "**Summary**:\n"
      ],
      "metadata": {
        "id": "BxvwKzxJ1Ncu"
      }
    },
    {
      "cell_type": "markdown",
      "source": [
        "Accessing: Use indexing or slicing to access elements.\n",
        "Modifying: Assign new values to specific indices or slices to modify elements.\n",
        "Deleting: Use del, pop(), or remove() to delete elements, and clear() to empty the entire list.\n",
        "These operations make Python lists powerful and flexible for various data manipulation tasks.\n",
        "\n",
        "\n",
        "\n",
        "\n",
        "\n",
        "\n"
      ],
      "metadata": {
        "id": "QYIptlqT1SkZ"
      }
    },
    {
      "cell_type": "markdown",
      "source": [
        "**Question 4.Compare and contrast tuple and list with examples**?\n",
        "\n"
      ],
      "metadata": {
        "id": "zgqINEEd26Qr"
      }
    },
    {
      "cell_type": "markdown",
      "source": [
        "In Python, both tuples and lists are used to store collections of items, but they have several key differences. Here's a comparison of tuples and lists, focusing on their similarities and differences:\n",
        "\n"
      ],
      "metadata": {
        "id": "uzgJ7kyC3FNh"
      }
    },
    {
      "cell_type": "markdown",
      "source": [
        "**1. Basic Definition**\n"
      ],
      "metadata": {
        "id": "g9Ck5nJu3Im2"
      }
    },
    {
      "cell_type": "markdown",
      "source": [
        "**List:** A list is a collection that is ordered and mutable, meaning you can change its elements (add, remove, or modify).\n",
        "**Tuple:** A tuple is also an ordered collection, but it is immutable, meaning once a tuple is created, its elements cannot be changed"
      ],
      "metadata": {
        "id": "dPr_kezv3OPl"
      }
    },
    {
      "cell_type": "markdown",
      "source": [
        "**2. Syntax**\n"
      ],
      "metadata": {
        "id": "Ud-DD9IB3T39"
      }
    },
    {
      "cell_type": "markdown",
      "source": [
        "**List**: Defined using square brackets [].\n",
        "**Tuple**: Defined using parentheses ().\n"
      ],
      "metadata": {
        "id": "gj13YF983axX"
      }
    },
    {
      "cell_type": "code",
      "source": [
        "# List\n",
        "my_list = [1, 2, 3, 4]\n",
        "\n",
        "# Tuple\n",
        "my_tuple = (1, 2, 3, 4)\n"
      ],
      "metadata": {
        "id": "bdeUVbLN3ghy"
      },
      "execution_count": null,
      "outputs": []
    },
    {
      "cell_type": "markdown",
      "source": [
        "**3. Mutability**\n"
      ],
      "metadata": {
        "id": "ACAiW8B53iYK"
      }
    },
    {
      "cell_type": "markdown",
      "source": [
        "List: Lists are mutable, so you can modify, add, or remove elements after the list is created.\n",
        "Tuple: Tuples are immutable, meaning you cannot modify the elements once the tuple is created.\n"
      ],
      "metadata": {
        "id": "Lwpk-1uu3lqc"
      }
    },
    {
      "cell_type": "code",
      "source": [
        "# Modifying a list\n",
        "my_list = [1, 2, 3]\n",
        "my_list[1] = 5  # Changing the second element\n",
        "print(my_list)  # Output: [1, 5, 3]\n",
        "\n",
        "# Trying to modify a tuple (this will raise an error)\n",
        "my_tuple = (1, 2, 3)\n",
        "# my_tuple[1] = 5  # TypeError: 'tuple' object does not support item assignment\n"
      ],
      "metadata": {
        "id": "ScBqXJN33n2f"
      },
      "execution_count": null,
      "outputs": []
    },
    {
      "cell_type": "markdown",
      "source": [
        "**4. Performance**\n"
      ],
      "metadata": {
        "id": "4VIxw11w3p-X"
      }
    },
    {
      "cell_type": "markdown",
      "source": [
        "List: Lists are generally slower than tuples because they are mutable and require more memory management (as they allow for operations like resizing).\n",
        "Tuple: Tuples are faster than lists for operations like iteration because they are immutable, making them more memory efficient.\n"
      ],
      "metadata": {
        "id": "cNcSVOxN3vOm"
      }
    },
    {
      "cell_type": "markdown",
      "source": [
        "**5. Use Cases**\n"
      ],
      "metadata": {
        "id": "IMe47QYJ3xop"
      }
    },
    {
      "cell_type": "markdown",
      "source": [
        "List: Use lists when you need a collection of items that may need to be changed during the program's lifecycle, such as in cases where elements are frequently added or removed.\n",
        "Tuple: Use tuples when you have a fixed collection of items that should not change, such as the coordinates of a point or the days of the week.\n"
      ],
      "metadata": {
        "id": "MMEwBjiV30S6"
      }
    },
    {
      "cell_type": "code",
      "source": [
        "# List (shopping list that may change)\n",
        "shopping_list = [\"milk\", \"bread\", \"eggs\"]\n",
        "shopping_list.append(\"butter\")\n",
        "print(shopping_list)  # Output: ['milk', 'bread', 'eggs', 'butter']\n",
        "\n",
        "# Tuple (coordinates of a point, which should not change)\n",
        "coordinates = (10, 20)\n",
        "# coordinates[0] = 15  # TypeError: 'tuple' object does not support item assignment\n"
      ],
      "metadata": {
        "id": "lLVBmEY032OT"
      },
      "execution_count": null,
      "outputs": []
    },
    {
      "cell_type": "markdown",
      "source": [
        "**6. Methods and Functions**\n"
      ],
      "metadata": {
        "id": "nDBh5amU34LT"
      }
    },
    {
      "cell_type": "markdown",
      "source": [
        "List: Lists have several built-in methods like append(), remove(), pop(), sort(), etc.\n",
        "Tuple: Tuples have fewer methods because they are immutable. They only support methods like count() and index().\n"
      ],
      "metadata": {
        "id": "yj7AUsTP37yM"
      }
    },
    {
      "cell_type": "code",
      "source": [
        "# List methods\n",
        "my_list = [1, 2, 3]\n",
        "my_list.append(4)\n",
        "print(my_list)  # Output: [1, 2, 3, 4]\n",
        "\n",
        "# Tuple methods\n",
        "my_tuple = (1, 2, 3)\n",
        "print(my_tuple.index(2))  # Output: 1\n"
      ],
      "metadata": {
        "id": "GMD77Tck39dN"
      },
      "execution_count": null,
      "outputs": []
    },
    {
      "cell_type": "markdown",
      "source": [
        "**7. Size and Memory Usage**\n"
      ],
      "metadata": {
        "id": "ZaZGQwds3_Qj"
      }
    },
    {
      "cell_type": "markdown",
      "source": [
        "List: Lists take up more memory because they are mutable and have extra memory allocated for accommodating changes.\n",
        "Tuple: Tuples take up less memory, as they are immutable and do not need extra memory for modifications.\n",
        "You can measure the size of each using the sys.getsizeof() function:\n",
        "\n"
      ],
      "metadata": {
        "id": "AAbmRsh14Ds4"
      }
    },
    {
      "cell_type": "code",
      "source": [
        "import sys\n",
        "\n",
        "# Memory usage\n",
        "my_list = [1, 2, 3]\n",
        "my_tuple = (1, 2, 3)\n",
        "\n",
        "print(sys.getsizeof(my_list))  # Output: Larger size\n",
        "print(sys.getsizeof(my_tuple))  # Output: Smaller size\n"
      ],
      "metadata": {
        "id": "1taUbTTV4FzU"
      },
      "execution_count": null,
      "outputs": []
    },
    {
      "cell_type": "markdown",
      "source": [
        "**8. Immutability and Safety**\n"
      ],
      "metadata": {
        "id": "zru-q7eB4H7P"
      }
    },
    {
      "cell_type": "markdown",
      "source": [
        "**List**: Since lists are mutable, they are less safe to use in multi-threaded environments where modifications might lead to unintended side effects.\n",
        "**Tuple**: Tuples are immutable and thus safer for use in situations where data should remain constant and not be accidentally modified.\n"
      ],
      "metadata": {
        "id": "C6w8yOZo4Lc1"
      }
    },
    {
      "cell_type": "markdown",
      "source": [
        "**9. Packing and Unpacking**\n"
      ],
      "metadata": {
        "id": "MK0EfZqv4PR8"
      }
    },
    {
      "cell_type": "markdown",
      "source": [
        "Both lists and tuples support packing and unpacking.\n",
        "\n",
        "Packing: Combining multiple values into a single list or tuple.\n",
        "Unpacking: Assigning values from a list or tuple to individual variables.\n"
      ],
      "metadata": {
        "id": "rQhTtlF44TUv"
      }
    },
    {
      "cell_type": "code",
      "source": [
        "# Packing a tuple\n",
        "my_tuple = 1, 2, 3\n",
        "print(my_tuple)  # Output: (1, 2, 3)\n",
        "\n",
        "# Unpacking a tuple\n",
        "a, b, c = my_tuple\n",
        "print(a, b, c)  # Output: 1 2 3\n"
      ],
      "metadata": {
        "id": "7NTFrqZr4VSM"
      },
      "execution_count": null,
      "outputs": []
    },
    {
      "cell_type": "markdown",
      "source": [
        "**10. Nested Structures**\n"
      ],
      "metadata": {
        "id": "4YVwd0s84XXH"
      }
    },
    {
      "cell_type": "markdown",
      "source": [
        "Both lists and tuples can be nested, meaning you can have lists of lists or tuples of tuples, as well as combinations of both"
      ],
      "metadata": {
        "id": "0tJkcwal4a1K"
      }
    },
    {
      "cell_type": "code",
      "source": [
        "# Nested list\n",
        "nested_list = [[1, 2], [3, 4]]\n",
        "print(nested_list)  # Output: [[1, 2], [3, 4]]\n",
        "\n",
        "# Nested tuple\n",
        "nested_tuple = ((1, 2), (3, 4))\n",
        "print(nested_tuple)  # Output: ((1, 2), (3, 4))\n"
      ],
      "metadata": {
        "id": "nVVQcY_y4cY1"
      },
      "execution_count": null,
      "outputs": []
    },
    {
      "cell_type": "markdown",
      "source": [
        "**11. Conversion Between Lists and Tuples**\n"
      ],
      "metadata": {
        "id": "XL_Gd1uO4eUM"
      }
    },
    {
      "cell_type": "markdown",
      "source": [
        "You can easily convert between lists and tuples using the list() and tuple() functions.\n",
        "\n"
      ],
      "metadata": {
        "id": "q5Jcelmd42zN"
      }
    },
    {
      "cell_type": "code",
      "source": [
        "# Convert list to tuple\n",
        "my_list = [1, 2, 3]\n",
        "my_tuple = tuple(my_list)\n",
        "print(my_tuple)  # Output: (1, 2, 3)\n",
        "\n",
        "# Convert tuple to list\n",
        "my_tuple = (1, 2, 3)\n",
        "my_list = list(my_tuple)\n",
        "print(my_list)  # Output: [1, 2, 3]\n"
      ],
      "metadata": {
        "id": "ANLjgwGc44sf"
      },
      "execution_count": null,
      "outputs": []
    },
    {
      "cell_type": "markdown",
      "source": [
        "In conclusion, use lists when you need a collection of items that might change throughout the program. Use tuples when you need a collection of items that should remain constant, and performance or memory optimization is important."
      ],
      "metadata": {
        "id": "Yo442jWV5AH9"
      }
    },
    {
      "cell_type": "markdown",
      "source": [
        "**Question 5.Describe the key features of sets and provide example of their use?**"
      ],
      "metadata": {
        "id": "ryYFCiBM5D7E"
      }
    },
    {
      "cell_type": "markdown",
      "source": [
        "A set in Python is an unordered, mutable collection of unique elements. Sets are particularly useful when you need to store items that must not contain duplicates and when membership testing (checking whether an element is in the set) or operations like union, intersection, and difference are needed. Below are the key features of sets along with examples of their use:\n",
        "\n"
      ],
      "metadata": {
        "id": "Lh7KXSVE5ilW"
      }
    },
    {
      "cell_type": "markdown",
      "source": [
        "Key Features of Sets\n"
      ],
      "metadata": {
        "id": "TUuCdBDX5nLl"
      }
    },
    {
      "cell_type": "markdown",
      "source": [
        "**1. Unordered**\n"
      ],
      "metadata": {
        "id": "YhfMzTwN5pKW"
      }
    },
    {
      "cell_type": "markdown",
      "source": [
        "Sets do not maintain the order of elements. This means you cannot rely on the order in which elements are stored or retrieved"
      ],
      "metadata": {
        "id": "6Al9xQgC5uu8"
      }
    },
    {
      "cell_type": "code",
      "source": [
        "my_set = {3, 1, 2}\n",
        "print(my_set)  # Output: {1, 2, 3} or {2, 3, 1}, but the order is not guaranteed.\n"
      ],
      "metadata": {
        "id": "HWo4FyTX5wiC"
      },
      "execution_count": null,
      "outputs": []
    },
    {
      "cell_type": "markdown",
      "source": [
        "**2. Mutable**\n"
      ],
      "metadata": {
        "id": "P0F2P5e05yI1"
      }
    },
    {
      "cell_type": "markdown",
      "source": [
        "Sets are mutable, meaning you can add or remove elements after the set has been created.\n"
      ],
      "metadata": {
        "id": "ypTSfSX450dP"
      }
    },
    {
      "cell_type": "code",
      "source": [
        "my_set = {1, 2, 3}\n",
        "my_set.add(4)\n",
        "print(my_set)  # Output: {1, 2, 3, 4}\n"
      ],
      "metadata": {
        "id": "8Hu_eek752EH"
      },
      "execution_count": null,
      "outputs": []
    },
    {
      "cell_type": "markdown",
      "source": [
        "**3. Unique Elements**\n"
      ],
      "metadata": {
        "id": "IkGQdnq053wn"
      }
    },
    {
      "cell_type": "markdown",
      "source": [
        "Sets only store unique elements, meaning if you try to add duplicate elements, they will be automatically removed.\n"
      ],
      "metadata": {
        "id": "QM5X-8j_56we"
      }
    },
    {
      "cell_type": "code",
      "source": [
        "my_set = {1, 2, 2, 3, 4, 4}\n",
        "print(my_set)  # Output: {1, 2, 3, 4} (duplicates are removed)\n"
      ],
      "metadata": {
        "id": "yH404kg358f7"
      },
      "execution_count": null,
      "outputs": []
    },
    {
      "cell_type": "markdown",
      "source": [
        "**4. Unindexed**\n"
      ],
      "metadata": {
        "id": "kzHd9OJk5-KG"
      }
    },
    {
      "cell_type": "markdown",
      "source": [
        "Unlike lists or tuples, sets do not support indexing or slicing because they are unordered. You cannot access elements by position.\n"
      ],
      "metadata": {
        "id": "sMx-mTga6CxS"
      }
    },
    {
      "cell_type": "code",
      "source": [
        "my_set = {1, 2, 3}\n",
        "# my_set[0]  # This will raise a TypeError: 'set' object is not subscriptable\n"
      ],
      "metadata": {
        "id": "f_4Q6Lb36F-X"
      },
      "execution_count": null,
      "outputs": []
    },
    {
      "cell_type": "markdown",
      "source": [
        "**5. Fast Membership Testing**\n"
      ],
      "metadata": {
        "id": "vRccnmlC6H4Z"
      }
    },
    {
      "cell_type": "markdown",
      "source": [
        "Sets are optimized for membership testing. Checking if an element exists in a set is much faster than checking in a list because sets use a hash table for storage.\n"
      ],
      "metadata": {
        "id": "7K66aNxg6L41"
      }
    },
    {
      "cell_type": "code",
      "source": [
        "my_set = {1, 2, 3}\n",
        "print(2 in my_set)  # Output: True\n"
      ],
      "metadata": {
        "id": "h7tMhsap6Nfi"
      },
      "execution_count": null,
      "outputs": []
    },
    {
      "cell_type": "markdown",
      "source": [
        "**6. Set Operations (Union, Intersection, Difference)**\n"
      ],
      "metadata": {
        "id": "1SlFJD4l6PnR"
      }
    },
    {
      "cell_type": "markdown",
      "source": [
        "Sets provide efficient built-in operations like union, intersection, and difference.\n",
        "**- Union: Combines elements from two sets (all unique elements from both sets)**."
      ],
      "metadata": {
        "id": "B97oSTI36UcU"
      }
    },
    {
      "cell_type": "code",
      "source": [
        "set1 = {1, 2, 3}\n",
        "set2 = {3, 4, 5}\n",
        "union_set = set1.union(set2)\n",
        "print(union_set)  # Output: {1, 2, 3, 4, 5}\n"
      ],
      "metadata": {
        "id": "V-cEmK_s6YyI"
      },
      "execution_count": null,
      "outputs": []
    },
    {
      "cell_type": "markdown",
      "source": [
        "- **Intersection: Returns the common elements between two sets**.\n"
      ],
      "metadata": {
        "id": "nCq0V2hC6bFY"
      }
    },
    {
      "cell_type": "markdown",
      "source": [
        "set1 = {1, 2, 3}\n",
        "set2 = {2, 3, 4}\n",
        "intersection_set = set1.intersection(set2)\n",
        "print(intersection_set)  # Output: {2, 3}\n"
      ],
      "metadata": {
        "id": "-rSCDqro6fX7"
      }
    },
    {
      "cell_type": "markdown",
      "source": [
        "- **Difference: Returns the elements that are in one set but not in the other**.\n"
      ],
      "metadata": {
        "id": "ejurzr-M6hwc"
      }
    },
    {
      "cell_type": "code",
      "source": [
        "set1 = {1, 2, 3}\n",
        "set2 = {2, 3, 4}\n",
        "difference_set = set1.difference(set2)\n",
        "print(difference_set)  # Output: {1}\n"
      ],
      "metadata": {
        "id": "I-fQNQGm6lMR"
      },
      "execution_count": null,
      "outputs": []
    },
    {
      "cell_type": "markdown",
      "source": [
        "- **Symmetric Difference: Returns elements that are in either set, but not in both.**\n"
      ],
      "metadata": {
        "id": "tEf-JAcl6nQG"
      }
    },
    {
      "cell_type": "code",
      "source": [
        "set1 = {1, 2, 3}\n",
        "set2 = {2, 3, 4}\n",
        "symmetric_diff_set = set1.symmetric_difference(set2)\n",
        "print(symmetric_diff_set)  # Output: {1, 4}\n"
      ],
      "metadata": {
        "id": "LxNxStbM6p1C"
      },
      "execution_count": null,
      "outputs": []
    },
    {
      "cell_type": "markdown",
      "source": [
        "**7. No Duplicates**\n"
      ],
      "metadata": {
        "id": "2lbanbww6rg5"
      }
    },
    {
      "cell_type": "markdown",
      "source": [
        "Sets automatically handle duplicates, making them ideal for storing non-repeating data. Example:\n"
      ],
      "metadata": {
        "id": "3qTcaLQg6uQc"
      }
    },
    {
      "cell_type": "code",
      "source": [
        "names = {\"Alice\", \"Bob\", \"Alice\"}\n",
        "print(names)  # Output: {\"Alice\", \"Bob\"} (duplicates are removed)\n"
      ],
      "metadata": {
        "id": "7O4Nh6Eq6wGv"
      },
      "execution_count": null,
      "outputs": []
    },
    {
      "cell_type": "markdown",
      "source": [
        "**8. Immutable Set: frozenset**\n"
      ],
      "metadata": {
        "id": "SbtxpEqQ6yOC"
      }
    },
    {
      "cell_type": "markdown",
      "source": [
        "While normal sets are mutable, Python also offers frozenset, an immutable version of the set. Once created, a frozenset cannot be modified.\n"
      ],
      "metadata": {
        "id": "1mZTw_p260nj"
      }
    },
    {
      "cell_type": "code",
      "source": [
        "frozen = frozenset([1, 2, 3])\n",
        "# frozen.add(4)  # This will raise an AttributeError: 'frozenset' object has no attribute 'add'\n"
      ],
      "metadata": {
        "id": "zhibkcAY62gy"
      },
      "execution_count": null,
      "outputs": []
    },
    {
      "cell_type": "markdown",
      "source": [
        "**Common Set Methods and Examples**\n"
      ],
      "metadata": {
        "id": "2_Y7h4ZQ67R3"
      }
    },
    {
      "cell_type": "markdown",
      "source": [
        "add(item): Adds an item to the set.\n",
        "\n"
      ],
      "metadata": {
        "id": "BSksFYq-6-tV"
      }
    },
    {
      "cell_type": "code",
      "source": [
        "my_set = {1, 2, 3}\n",
        "my_set.add(4)\n",
        "print(my_set)  # Output: {1, 2, 3, 4}\n"
      ],
      "metadata": {
        "id": "AfFw1DY37Afp"
      },
      "execution_count": null,
      "outputs": []
    },
    {
      "cell_type": "markdown",
      "source": [
        "remove(item): Removes an item from the set. Raises KeyError if the item is not found.\n",
        "\n"
      ],
      "metadata": {
        "id": "R4dhxPay7CU9"
      }
    },
    {
      "cell_type": "code",
      "source": [
        "my_set = {1, 2, 3}\n",
        "my_set.remove(2)\n",
        "print(my_set)  # Output: {1, 3}\n"
      ],
      "metadata": {
        "id": "KxFTa5qt7DpV"
      },
      "execution_count": null,
      "outputs": []
    },
    {
      "cell_type": "markdown",
      "source": [
        "discard(item): Removes an item from the set. Does not raise an error if the item is not found.\n",
        "\n"
      ],
      "metadata": {
        "id": "tSiNwMPS7Fo8"
      }
    },
    {
      "cell_type": "code",
      "source": [
        "my_set = {1, 2, 3}\n",
        "my_set.discard(2)\n",
        "my_set.discard(5)  # No error raised even though 5 is not in the set\n",
        "print(my_set)  # Output: {1, 3}\n"
      ],
      "metadata": {
        "id": "kZpCqfJm7HTW"
      },
      "execution_count": null,
      "outputs": []
    },
    {
      "cell_type": "markdown",
      "source": [
        "clear(): Removes all items from the set.\n",
        "\n"
      ],
      "metadata": {
        "id": "m3O8kCQT7JdJ"
      }
    },
    {
      "cell_type": "code",
      "source": [
        "my_set = {1, 2, 3}\n",
        "my_set.clear()\n",
        "print(my_set)  # Output: set() (empty set)\n"
      ],
      "metadata": {
        "id": "xZCV-oIn7LGq"
      },
      "execution_count": null,
      "outputs": []
    },
    {
      "cell_type": "markdown",
      "source": [
        "**Example Use Cases of Sets**\n"
      ],
      "metadata": {
        "id": "5ETdcZZ77Mwp"
      }
    },
    {
      "cell_type": "markdown",
      "source": [
        "Removing Duplicates from a List: You can convert a list to a set to remove duplicate values.\n",
        "\n"
      ],
      "metadata": {
        "id": "-9sE_dj27Pj4"
      }
    },
    {
      "cell_type": "code",
      "source": [
        "my_list = [1, 2, 2, 3, 4, 4, 5]\n",
        "my_set = set(my_list)\n",
        "print(my_set)  # Output: {1, 2, 3, 4, 5}\n"
      ],
      "metadata": {
        "id": "XU-gPAFm7Q8w"
      },
      "execution_count": null,
      "outputs": []
    },
    {
      "cell_type": "markdown",
      "source": [
        "Membership Testing: Sets are great for checking if an item exists in a collection, especially when the collection is large.\n",
        "\n"
      ],
      "metadata": {
        "id": "coPf5dMh7SeU"
      }
    },
    {
      "cell_type": "code",
      "source": [
        "allowed_users = {\"Alice\", \"Bob\", \"Charlie\"}\n",
        "user = \"Alice\"\n",
        "if user in allowed_users:\n",
        "    print(f\"{user} is allowed\")\n"
      ],
      "metadata": {
        "id": "_0Ok9Z4z7UPL"
      },
      "execution_count": null,
      "outputs": []
    },
    {
      "cell_type": "markdown",
      "source": [
        "Finding Common Elements: Sets are useful for finding common items between two collections.\n",
        "\n"
      ],
      "metadata": {
        "id": "SxrI4AvR7XTR"
      }
    },
    {
      "cell_type": "code",
      "source": [
        "registered_users = {\"Alice\", \"Bob\", \"Charlie\"}\n",
        "logged_in_users = {\"Bob\", \"Charlie\", \"Dave\"}\n",
        "\n",
        "common_users = registered_users.intersection(logged_in_users)\n",
        "print(common_users)  # Output: {\"Bob\", \"Charlie\"}\n"
      ],
      "metadata": {
        "id": "9LQ7Bb8k7Y_P"
      },
      "execution_count": null,
      "outputs": []
    },
    {
      "cell_type": "markdown",
      "source": [
        "**Set Operations for Data Analysis**: Sets are commonly used in data analysis when working with categories, groups, or classifications. For example, finding the distinct categories in a dataset or comparing datasets for unique and shared values.\n",
        "\n"
      ],
      "metadata": {
        "id": "Vnln_0mh7bC9"
      }
    },
    {
      "cell_type": "markdown",
      "source": [
        "**Question 6.Discuss the use cases of tuple and sets in python programming?**\n",
        "\n"
      ],
      "metadata": {
        "id": "v6TF5k2L7hQ2"
      }
    },
    {
      "cell_type": "markdown",
      "source": [
        "Tuples and sets are both important data structures in Python, each with distinct characteristics and use cases. Here’s a discussion on the use cases of tuples and sets in Python programming:\n",
        "\n"
      ],
      "metadata": {
        "id": "pzUNSK0J8Gyo"
      }
    },
    {
      "cell_type": "markdown",
      "source": [
        "**Use Cases of Tuples**\n"
      ],
      "metadata": {
        "id": "Ua1Xmh3J8KlL"
      }
    },
    {
      "cell_type": "markdown",
      "source": [
        "**Immutable Data Storage**:\n",
        "\n"
      ],
      "metadata": {
        "id": "V6xKoCEZ8QkI"
      }
    },
    {
      "cell_type": "markdown",
      "source": [
        "Use Case: Tuples are used to store data that should not change throughout the program’s lifecycle, such as configuration settings, fixed values, or records.\n"
      ],
      "metadata": {
        "id": "0sWsGb8P8T5E"
      }
    },
    {
      "cell_type": "code",
      "source": [
        "config = (\"localhost\", 8080, \"user\", \"password\")  # Database configuration\n"
      ],
      "metadata": {
        "id": "jRvBDAG08VdT"
      },
      "execution_count": null,
      "outputs": []
    },
    {
      "cell_type": "markdown",
      "source": [
        "Heterogeneous Data:\n",
        "\n"
      ],
      "metadata": {
        "id": "r93g4pen8Xo2"
      }
    },
    {
      "cell_type": "markdown",
      "source": [
        "Use Case: Tuples can hold mixed data types (e.g., integers, strings, lists), making them suitable for representing complex records.\n"
      ],
      "metadata": {
        "id": "9mhCG8Dx8ZWr"
      }
    },
    {
      "cell_type": "code",
      "source": [
        "person = (\"Alice\", 30, [\"reading\", \"hiking\"])  # Name, age, hobbies\n"
      ],
      "metadata": {
        "id": "RHPgbCLU8a9s"
      },
      "execution_count": null,
      "outputs": []
    },
    {
      "cell_type": "markdown",
      "source": [
        "Returning Multiple Values from Functions:\n",
        "\n"
      ],
      "metadata": {
        "id": "gDcG6CC_8d_2"
      }
    },
    {
      "cell_type": "markdown",
      "source": [
        "Use Case: Functions can return multiple values as tuples, making it easy to pack and unpack the results"
      ],
      "metadata": {
        "id": "BRIb3VM88f4i"
      }
    },
    {
      "cell_type": "code",
      "source": [
        "def calculate_stats(numbers):\n",
        "    total = sum(numbers)\n",
        "    count = len(numbers)\n",
        "    average = total / count\n",
        "    return total, count, average  # Return as a tuple\n",
        "\n",
        "stats = calculate_stats([1, 2, 3, 4, 5])\n",
        "print(stats)  # Output: (15, 5, 3.0)\n"
      ],
      "metadata": {
        "id": "YmUISE7H8h0U"
      },
      "execution_count": null,
      "outputs": []
    },
    {
      "cell_type": "markdown",
      "source": [
        "Using as Dictionary Keys:\n",
        "\n"
      ],
      "metadata": {
        "id": "Qiyq_90Z8jz7"
      }
    },
    {
      "cell_type": "markdown",
      "source": [
        "Use Case: Since tuples are immutable, they can be used as keys in dictionaries, whereas lists cannot.\n"
      ],
      "metadata": {
        "id": "Mc2fEsAH8lQx"
      }
    },
    {
      "cell_type": "code",
      "source": [
        "coordinates = {(1, 2): \"A\", (3, 4): \"B\"}  # Tuples as dictionary keys\n"
      ],
      "metadata": {
        "id": "Tu2qjv028qHP"
      },
      "execution_count": null,
      "outputs": []
    },
    {
      "cell_type": "markdown",
      "source": [
        "Packing and Unpacking:\n",
        "\n",
        "Use Case: Tuples support packing (combining multiple values) and unpacking (assigning values to multiple variables), making them useful for quick data transfers."
      ],
      "metadata": {
        "id": "a_kge3yL83cR"
      }
    },
    {
      "cell_type": "code",
      "source": [
        "point = (5, 10)\n",
        "x, y = point  # Unpacking the tuple\n"
      ],
      "metadata": {
        "id": "GhB0qNXN9BVH"
      },
      "execution_count": null,
      "outputs": []
    },
    {
      "cell_type": "markdown",
      "source": [
        "Fixed-Size Collections:\n",
        "\n"
      ],
      "metadata": {
        "id": "QIL3gHza9anR"
      }
    },
    {
      "cell_type": "markdown",
      "source": [
        "Use Case: Tuples can be used when you need a fixed-size collection that will not change, such as representing points in a 2D or 3D space."
      ],
      "metadata": {
        "id": "ov0uAV1H9fqT"
      }
    },
    {
      "cell_type": "code",
      "source": [
        "point_2D = (3, 4)  # A fixed point in a 2D space\n",
        "point_3D = (1, 2, 3)  # A fixed point in a 3D space\n"
      ],
      "metadata": {
        "id": "HweeTxOG9hjT"
      },
      "execution_count": null,
      "outputs": []
    },
    {
      "cell_type": "markdown",
      "source": [
        "**Use Cases of Sets**\n"
      ],
      "metadata": {
        "id": "kMK2r6SN9kJd"
      }
    },
    {
      "cell_type": "markdown",
      "source": [
        "**Removing Duplicates:**\n",
        "\n"
      ],
      "metadata": {
        "id": "4aXxbsv69lxd"
      }
    },
    {
      "cell_type": "markdown",
      "source": [
        "Use Case: Sets are ideal for removing duplicate values from a list or any collection because they only store unique elements.\n"
      ],
      "metadata": {
        "id": "S035pSn99qR9"
      }
    },
    {
      "cell_type": "code",
      "source": [
        "numbers = [1, 2, 2, 3, 4, 4, 5]\n",
        "unique_numbers = set(numbers)\n",
        "print(unique_numbers)  # Output: {1, 2, 3, 4, 5}\n"
      ],
      "metadata": {
        "id": "bN51sR0e9z2o"
      },
      "execution_count": null,
      "outputs": []
    },
    {
      "cell_type": "markdown",
      "source": [
        "Fast Membership Testing:\n",
        "\n"
      ],
      "metadata": {
        "id": "9ePO2J_k92Fw"
      }
    },
    {
      "cell_type": "markdown",
      "source": [
        "Use Case: Sets provide O(1) average time complexity for membership tests, making them efficient for checking whether an element is present.\n"
      ],
      "metadata": {
        "id": "8vTGoJua934-"
      }
    },
    {
      "cell_type": "code",
      "source": [
        "allowed_users = {\"Alice\", \"Bob\", \"Charlie\"}\n",
        "if \"Alice\" in allowed_users:\n",
        "    print(\"Access granted\")\n"
      ],
      "metadata": {
        "id": "PN56__jN95oe"
      },
      "execution_count": null,
      "outputs": []
    },
    {
      "cell_type": "markdown",
      "source": [
        "Set Operations (Union, Intersection, Difference):\n",
        "\n"
      ],
      "metadata": {
        "id": "9qi9Ig3C97kr"
      }
    },
    {
      "cell_type": "markdown",
      "source": [
        "Use Case: Sets can be used for mathematical set operations like union, intersection, and difference, which are useful in various applications, including data analysis and comparing datasets.\n"
      ],
      "metadata": {
        "id": "opgubJ1E991a"
      }
    },
    {
      "cell_type": "code",
      "source": [
        "set_a = {1, 2, 3}\n",
        "set_b = {3, 4, 5}\n",
        "print(set_a.union(set_b))        # Output: {1, 2, 3, 4, 5}\n",
        "print(set_a.intersection(set_b)) # Output: {3}\n",
        "print(set_a.difference(set_b))   # Output: {1, 2}\n"
      ],
      "metadata": {
        "id": "AzjpKuwl9_3D"
      },
      "execution_count": null,
      "outputs": []
    },
    {
      "cell_type": "markdown",
      "source": [
        "Data Analysis and Cleaning:\n",
        "\n"
      ],
      "metadata": {
        "id": "YKwJrlko-Bvo"
      }
    },
    {
      "cell_type": "markdown",
      "source": [
        "Use Case: Sets are often used in data analysis for tasks like filtering unique records and performing operations on categories or groups.\n"
      ],
      "metadata": {
        "id": "teIfWImz-D8z"
      }
    },
    {
      "cell_type": "code",
      "source": [
        "survey_responses = [\"yes\", \"no\", \"yes\", \"maybe\", \"no\"]\n",
        "unique_responses = set(survey_responses)\n",
        "print(unique_responses)  # Output: {'maybe', 'yes', 'no'}\n"
      ],
      "metadata": {
        "id": "mnawlyVF-FRT"
      },
      "execution_count": null,
      "outputs": []
    },
    {
      "cell_type": "markdown",
      "source": [
        "Checking Subsets and Supersets:\n",
        "\n"
      ],
      "metadata": {
        "id": "DNfl1SyX-HBA"
      }
    },
    {
      "cell_type": "markdown",
      "source": [
        "Use Case: Sets allow you to easily check if one set is a subset or superset of another, which is useful in various logical and mathematical operations.\n"
      ],
      "metadata": {
        "id": "ziQhZSCl-IzV"
      }
    },
    {
      "cell_type": "code",
      "source": [
        "set_a = {1, 2, 3}\n",
        "set_b = {1, 2, 3, 4, 5}\n",
        "print(set_a.issubset(set_b))  # Output: True\n",
        "print(set_b.issuperset(set_a)) # Output: True\n"
      ],
      "metadata": {
        "id": "7G8ZKILu-Kwu"
      },
      "execution_count": null,
      "outputs": []
    },
    {
      "cell_type": "markdown",
      "source": [
        "Keeping Track of Unique Values:\n",
        "\n"
      ],
      "metadata": {
        "id": "9uBezZX8-MSh"
      }
    },
    {
      "cell_type": "markdown",
      "source": [
        "Use Case: Sets are often used to keep track of unique values in scenarios where duplicates should be ignored, such as counting unique items or user IDs.\n"
      ],
      "metadata": {
        "id": "IgwhOGTT-N_q"
      }
    },
    {
      "cell_type": "code",
      "source": [
        "visit_log = {\"user1\", \"user2\", \"user3\", \"user1\"}\n",
        "print(len(visit_log))  # Output: 3 (unique users)\n"
      ],
      "metadata": {
        "id": "--DjfUqW-P8B"
      },
      "execution_count": null,
      "outputs": []
    },
    {
      "cell_type": "markdown",
      "source": [
        "Cross-Reference Lists:\n",
        "\n"
      ],
      "metadata": {
        "id": "r9FE6PSv-Rzy"
      }
    },
    {
      "cell_type": "markdown",
      "source": [
        "Use Case: Sets can be used to cross-reference two lists to find common elements quickly.\n"
      ],
      "metadata": {
        "id": "qam2_9NY-TtO"
      }
    },
    {
      "cell_type": "code",
      "source": [
        "list1 = [\"apple\", \"banana\", \"cherry\"]\n",
        "list2 = [\"banana\", \"kiwi\", \"mango\"]\n",
        "common_fruits = set(list1).intersection(set(list2))\n",
        "print(common_fruits)  # Output: {'banana'}\n"
      ],
      "metadata": {
        "id": "h_5TxPrV-WFv"
      },
      "execution_count": null,
      "outputs": []
    },
    {
      "cell_type": "markdown",
      "source": [
        "**Question 7.Describe how to add, modify and delete items in a dictionary with wxamples?**\n",
        "\n"
      ],
      "metadata": {
        "id": "k_coCmHb-Wwa"
      }
    },
    {
      "cell_type": "markdown",
      "source": [
        "In Python, dictionaries are versatile data structures that store key-value pairs. They are mutable, meaning you can add, modify, and delete items dynamically. Here’s how to perform these operations with examples:\n",
        "\n"
      ],
      "metadata": {
        "id": "Tu_BTbIt-wme"
      }
    },
    {
      "cell_type": "markdown",
      "source": [
        "**1. Adding Items to a Dictionary**\n"
      ],
      "metadata": {
        "id": "YABwIUg3-yj4"
      }
    },
    {
      "cell_type": "markdown",
      "source": [
        "You can add items to a dictionary by assigning a value to a new key or using the update() method.\n",
        "Using Assignment\n",
        "\n"
      ],
      "metadata": {
        "id": "9a9I166M-1N7"
      }
    },
    {
      "cell_type": "code",
      "source": [
        "my_dict = {'name': 'Alice', 'age': 30}\n",
        "my_dict['city'] = 'New York'  # Adding a new key-value pair\n",
        "print(my_dict)\n",
        "# Output: {'name': 'Alice', 'age': 30, 'city': 'New York'}\n"
      ],
      "metadata": {
        "id": "rYf2Q69C-9Nh"
      },
      "execution_count": null,
      "outputs": []
    },
    {
      "cell_type": "markdown",
      "source": [
        "Using update() Method\n"
      ],
      "metadata": {
        "id": "capuROsO_ABw"
      }
    },
    {
      "cell_type": "code",
      "source": [
        "my_dict = {'name': 'Alice', 'age': 30}\n",
        "my_dict.update({'country': 'USA', 'job': 'Engineer'})  # Adding multiple key-value pairs\n",
        "print(my_dict)\n",
        "# Output: {'name': 'Alice', 'age': 30, 'country': 'USA', 'job': 'Engineer'}\n"
      ],
      "metadata": {
        "id": "lfb1Ym18_EGt"
      },
      "execution_count": null,
      "outputs": []
    },
    {
      "cell_type": "markdown",
      "source": [
        "**2. Modifying Items in a Dictionary**\n"
      ],
      "metadata": {
        "id": "BVjrWeS6_G5y"
      }
    },
    {
      "cell_type": "markdown",
      "source": [
        "You can modify the value associated with a specific key by assigning a new value to that key.\n",
        "\n"
      ],
      "metadata": {
        "id": "A0W2LlHd_Jgu"
      }
    },
    {
      "cell_type": "markdown",
      "source": [
        "Modifying an Existing Value\n"
      ],
      "metadata": {
        "id": "l7lBE0Q9_LG_"
      }
    },
    {
      "cell_type": "code",
      "source": [
        "my_dict = {'name': 'Alice', 'age': 30}\n",
        "my_dict['age'] = 31  # Modifying the value of an existing key\n",
        "print(my_dict)\n",
        "# Output: {'name': 'Alice', 'age': 31}\n"
      ],
      "metadata": {
        "id": "HbX80CEb_Mm-"
      },
      "execution_count": null,
      "outputs": []
    },
    {
      "cell_type": "markdown",
      "source": [
        "Using update() Method for Modification\n"
      ],
      "metadata": {
        "id": "RKXTAr9u_Oja"
      }
    },
    {
      "cell_type": "code",
      "source": [
        "my_dict = {'name': 'Alice', 'age': 30}\n",
        "my_dict.update({'age': 31, 'city': 'Los Angeles'})  # Modifying and adding a new key-value pair\n",
        "print(my_dict)\n",
        "# Output: {'name': 'Alice', 'age': 31, 'city': 'Los Angeles'}\n"
      ],
      "metadata": {
        "id": "-qOlMw7-_QIr"
      },
      "execution_count": null,
      "outputs": []
    },
    {
      "cell_type": "markdown",
      "source": [
        "**3. Deleting Items from a Dictionary**\n"
      ],
      "metadata": {
        "id": "ks1WfVUr_RrL"
      }
    },
    {
      "cell_type": "markdown",
      "source": [
        "You can delete items from a dictionary using the del statement, the pop() method, or the popitem() method.\n",
        "\n"
      ],
      "metadata": {
        "id": "sBHAOGlS_U6v"
      }
    },
    {
      "cell_type": "markdown",
      "source": [
        "Using del Statement\n"
      ],
      "metadata": {
        "id": "1Jp03BrH_WZz"
      }
    },
    {
      "cell_type": "code",
      "source": [
        "my_dict = {'name': 'Alice', 'age': 30, 'city': 'New York'}\n",
        "del my_dict['city']  # Deleting a key-value pair\n",
        "print(my_dict)\n",
        "# Output: {'name': 'Alice', 'age': 30}\n"
      ],
      "metadata": {
        "id": "zN8Cv7N7_YYo"
      },
      "execution_count": null,
      "outputs": []
    },
    {
      "cell_type": "markdown",
      "source": [
        "Using pop() Method\n"
      ],
      "metadata": {
        "id": "GIYIoURc_Z9O"
      }
    },
    {
      "cell_type": "code",
      "source": [
        "my_dict = {'name': 'Alice', 'age': 30, 'city': 'New York'}\n",
        "age = my_dict.pop('age')  # Removing a key and returning its value\n",
        "print(my_dict)  # Output: {'name': 'Alice', 'city': 'New York'}\n",
        "print(age)      # Output: 30 (the removed value)\n"
      ],
      "metadata": {
        "id": "vJksR_kj_be0"
      },
      "execution_count": null,
      "outputs": []
    },
    {
      "cell_type": "markdown",
      "source": [
        "Using popitem() Method\n"
      ],
      "metadata": {
        "id": "U3C2StBi_dTQ"
      }
    },
    {
      "cell_type": "code",
      "source": [
        "my_dict = {'name': 'Alice', 'age': 30, 'city': 'New York'}\n",
        "last_item = my_dict.popitem()  # Removing the last inserted key-value pair\n",
        "print(my_dict)  # Output: {'name': 'Alice', 'age': 30}\n",
        "print(last_item)  # Output: ('city', 'New York')\n"
      ],
      "metadata": {
        "id": "mJYD7S65_fO4"
      },
      "execution_count": null,
      "outputs": []
    },
    {
      "cell_type": "markdown",
      "source": [
        "**Summary of Operations**"
      ],
      "metadata": {
        "id": "5jze6OiM_i6W"
      }
    },
    {
      "cell_type": "markdown",
      "source": [
        "Adding Items:\n",
        "\n",
        "Use assignment: my_dict['new_key'] = value\n",
        "Use update(): my_dict.update({'new_key': value})\n",
        "Modifying Items:\n",
        "\n",
        "Modify existing value: my_dict['existing_key'] = new_value\n",
        "Use update(): my_dict.update({'existing_key': new_value})\n",
        "Deleting Items:\n",
        "\n",
        "Use del: del my_dict['key_to_delete']\n",
        "Use pop(): value = my_dict.pop('key_to_delete')\n",
        "Use popitem(): key, value = my_dict.popitem() (removes the last inserted item)\n"
      ],
      "metadata": {
        "id": "-7fL0OpK_nSr"
      }
    },
    {
      "cell_type": "markdown",
      "source": [
        "**Question 8 Discuss the importances of dictionary keys being immutable and provide examples?**\n",
        "\n",
        "."
      ],
      "metadata": {
        "id": "JLCACsnU_pjV"
      }
    },
    {
      "cell_type": "markdown",
      "source": [
        "In Python, dictionary keys must be immutable data types. This immutability is crucial for maintaining the integrity and performance of dictionaries. Here’s a discussion on the importance of dictionary keys being immutable, along with examples:\n",
        "\n"
      ],
      "metadata": {
        "id": "Rw-jaK1cANT_"
      }
    },
    {
      "cell_type": "markdown",
      "source": [
        "1. **Ensuring Uniqueness**\n"
      ],
      "metadata": {
        "id": "IZ9Jrl7IA1U9"
      }
    },
    {
      "cell_type": "markdown",
      "source": [
        "Importance: Immutable keys ensure that each key in a dictionary remains constant and unique. If a key could change, it would lead to ambiguity and difficulty in accessing values.\n",
        "\n"
      ],
      "metadata": {
        "id": "WqTaGz68A5kA"
      }
    },
    {
      "cell_type": "code",
      "source": [
        "# Using immutable keys (strings)\n",
        "my_dict = {'name': 'Alice', 'age': 30}\n",
        "\n",
        "# Attempting to change a key (which is not allowed)\n",
        "# my_dict['name'] = 'Bob'  # Allowed because we're changing the value, not the key\n"
      ],
      "metadata": {
        "id": "0kGH3zo7BAhF"
      },
      "execution_count": null,
      "outputs": []
    },
    {
      "cell_type": "markdown",
      "source": [
        "If we allowed mutable types (like lists) as keys, the dictionary could not guarantee that the key would remain unique"
      ],
      "metadata": {
        "id": "DjfI8giXBDGr"
      }
    },
    {
      "cell_type": "markdown",
      "source": [
        "2. **Improving Performance**\n"
      ],
      "metadata": {
        "id": "4rB-cT0HBEct"
      }
    },
    {
      "cell_type": "markdown",
      "source": [
        "Importance: Dictionaries are implemented using hash tables. The immutability of keys allows the hash value to remain constant. This ensures that dictionary lookups, insertions, and deletions are efficient (average O(1) time complexity).\n",
        "\n"
      ],
      "metadata": {
        "id": "bwNCQ1ueBGqa"
      }
    },
    {
      "cell_type": "code",
      "source": [
        "# Using a tuple as a key (which is immutable)\n",
        "my_dict = { (1, 2): 'Point A', (3, 4): 'Point B' }\n",
        "\n",
        "# Efficiently accessing a value using the immutable key\n",
        "print(my_dict[(1, 2)])  # Output: Point A\n"
      ],
      "metadata": {
        "id": "Eo6wE4lqBJxZ"
      },
      "execution_count": null,
      "outputs": []
    },
    {
      "cell_type": "markdown",
      "source": [
        "If the keys were mutable, their hash values could change, making it impossible for the dictionary to locate the associated values efficiently.\n",
        "\n"
      ],
      "metadata": {
        "id": "lnXLIxmKBLVe"
      }
    },
    {
      "cell_type": "markdown",
      "source": [
        "3. **Maintaining Data Integrity**\n"
      ],
      "metadata": {
        "id": "KsoBC_OGBMtY"
      }
    },
    {
      "cell_type": "markdown",
      "source": [
        "Importance: Immutability ensures that keys remain unchanged, which is essential for maintaining the integrity of data associations. If keys could be modified, it would lead to unpredictable behavior and errors in data retrieval.\n",
        "\n"
      ],
      "metadata": {
        "id": "Gap9cBS0BPj1"
      }
    },
    {
      "cell_type": "code",
      "source": [
        "# Using tuples as keys\n",
        "my_dict = { (1, 2): 'Coordinates A', (3, 4): 'Coordinates B' }\n",
        "\n",
        "# The tuple key remains unchanged\n",
        "print(my_dict[(1, 2)])  # Output: Coordinates A\n",
        "\n",
        "# If tuples were mutable, changing a value in the tuple would affect the key\n",
        "# my_dict[(1, 2)[0]] = 5  # This would lead to issues as the key could change\n"
      ],
      "metadata": {
        "id": "-4-RS1esBQ9g"
      },
      "execution_count": null,
      "outputs": []
    },
    {
      "cell_type": "markdown",
      "source": [
        "4. **Preventing Logical Errors**\n"
      ],
      "metadata": {
        "id": "r8938VXNBSgX"
      }
    },
    {
      "cell_type": "markdown",
      "source": [
        "Importance: Allowing mutable objects as keys could lead to logical errors in programs, making it difficult to debug or maintain the code. With immutable keys, the behavior of dictionaries is predictable.\n",
        "\n"
      ],
      "metadata": {
        "id": "EB4NZDSNBVhi"
      }
    },
    {
      "cell_type": "code",
      "source": [
        "# Example with a mutable key (list) - Not allowed\n",
        "# my_dict = {[1, 2]: 'List as Key'}  # Raises a TypeError\n",
        "\n",
        "# Using an immutable key instead\n",
        "my_dict = {(1, 2): 'Tuple as Key'}\n",
        "print(my_dict[(1, 2)])  # Output: Tuple as Key\n"
      ],
      "metadata": {
        "id": "q7dYwV9MBW9D"
      },
      "execution_count": null,
      "outputs": []
    },
    {
      "cell_type": "markdown",
      "source": [
        "5. **Flexibility with Immutable Types**\n"
      ],
      "metadata": {
        "id": "PEkiQ_2mBYv3"
      }
    },
    {
      "cell_type": "markdown",
      "source": [
        "Importance: While only immutable types can be used as dictionary keys, Python supports several built-in immutable types, such as:\n",
        "\n",
        "Strings\n",
        "Tuples\n",
        "Integers\n",
        "Floats\n",
        "This flexibility allows developers to choose appropriate key types based on their use case.\n",
        "\n"
      ],
      "metadata": {
        "id": "F6lhj2hjBcQx"
      }
    },
    {
      "cell_type": "code",
      "source": [
        "# Using different immutable key types\n",
        "my_dict = {\n",
        "    'name': 'Alice',      # String key\n",
        "    (1, 2): 'Point A',    # Tuple key\n",
        "    42: 'The Answer'      # Integer key\n",
        "}\n",
        "print(my_dict)  # Output: {'name': 'Alice', (1, 2): 'Point A', 42: 'The Answer'}\n"
      ],
      "metadata": {
        "id": "aHNa1PKIBdxu"
      },
      "execution_count": null,
      "outputs": []
    },
    {
      "cell_type": "markdown",
      "source": [
        "**Conclusion**\n",
        "The requirement for dictionary keys to be immutable is a fundamental aspect of Python's design. It ensures:\n",
        "\n",
        "Uniqueness: Keys can’t change, which preserves data associations.\n",
        "Performance: Hashing remains efficient and predictable.\n",
        "Data Integrity: Prevents unexpected changes to keys.\n",
        "Logical Clarity: Reduces potential for errors and confusion.\n",
        "Versatile Options: Multiple immutable types can be used as keys.\n"
      ],
      "metadata": {
        "id": "y423Uf6dBhiX"
      }
    }
  ]
}